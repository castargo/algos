{
 "cells": [
  {
   "cell_type": "markdown",
   "metadata": {},
   "source": [
    "# Структуры данных\n",
    "\n",
    "Структура данных - программная единица, позволяющая хранить и обрабатывать однотипные и/или логически связанные данные. Для добавления, поиска, изменения и удаления данных структура данных предоставляет некоторый набор функций, составляющих её интерфейс.\n",
    "\n",
    "Выделяют следующие основные типы данных:\n",
    "* Массив (array)\n",
    "* Строка (string)\n",
    "* Стек (stack) - LIFO (last in, first out)\n",
    "* Связный список (linked list)\n",
    "* Очередь - FIFO (first in, first out)\n",
    "    * Queue\n",
    "    * Deque (double-ended queue)\n",
    "    * Priority queue - куча\n",
    "* Дерево\n",
    "    * Tree\n",
    "    * Binary tree\n",
    "    * Red-black tree\n",
    "    * Префиксное дерево (trie)\n",
    "* Граф (graph)\n",
    "* Хэш-структуры\n",
    "    * Хэш-таблица (hash table)\n",
    "    * Хэш-множество\n",
    "    * Словарь (ключ-значение)\n",
    "* Геометрические структуры данных\n",
    "\n",
    "В зависимости от способа организации элементов в структуре данных их можно разделить на два типа:\n",
    "* **Линейные структуры данных**: массив, строка, список, очередь, стек, дек\n",
    "* **Нелинейные структуры данных**: деревья, графы\n",
    "\n",
    "В зависимости от реализации структуры данных можно четко разделить на два типа:\n",
    "* **Смежные структуры данных** реализованы в виде непрерывных блоков памяти: массивы, матрицы, кучи и хэш-таблицы\n",
    "* **Связные структуры данных** реализованы в отдельных блоках памяти, связанных вместе с помощью **указателей**: списки, деревья\n",
    "\n",
    "Указатель - переменная, диапазон значений которой состоит из адресов ячеек памяти или специального значения - нулевого адреса.\n",
    "\n",
    "<img src=\"pictures/data_strutures_table.png\" width=700 height=700 />\n",
    "\n",
    "[source](https://www.bigocheatsheet.com/)"
   ]
  },
  {
   "cell_type": "markdown",
   "metadata": {},
   "source": [
    "## Структуры данных в Python\n",
    "\n",
    "[Python data structures time complexity](https://wiki.python.org/moin/TimeComplexity)\n",
    "\n",
    "* list = dynamic array\n",
    "* dict = hash table\n",
    "* set = key hash table\n",
    "* collections.deque = double-linked list"
   ]
  },
  {
   "cell_type": "markdown",
   "metadata": {},
   "source": [
    "## Литература\n",
    "\n",
    "1. \"Алгоритмы. Руководство по разработке\" Стивен Скиена\n",
    "2. [Структура данных - wiki](https://ru.wikipedia.org/wiki/%D0%A1%D1%82%D1%80%D1%83%D0%BA%D1%82%D1%83%D1%80%D0%B0_%D0%B4%D0%B0%D0%BD%D0%BD%D1%8B%D1%85#:~:text=%D0%A1%D1%82%D1%80%D1%83%D0%BA%D1%82%D1%83%D1%80%D0%B0%20%D0%B4%D0%B0%D0%BD%D0%BD%D1%8B%D1%85%20(%D0%B0%D0%BD%D0%B3%D0%BB.,%D0%BD%D0%B0%D0%B1%D0%BE%D1%80%20%D1%84%D1%83%D0%BD%D0%BA%D1%86%D0%B8%D0%B9%2C%20%D1%81%D0%BE%D1%81%D1%82%D0%B0%D0%B2%D0%BB%D1%8F%D1%8E%D1%89%D0%B8%D1%85%20%D0%B5%D1%91%20%D0%B8%D0%BD%D1%82%D0%B5%D1%80%D1%84%D0%B5%D0%B9%D1%81.)\n",
    "3. [Самые популярные структуры данных](https://habr.com/ru/articles/489494/)"
   ]
  }
 ],
 "metadata": {
  "kernelspec": {
   "display_name": "Python 3",
   "language": "python",
   "name": "python3"
  },
  "language_info": {
   "codemirror_mode": {
    "name": "ipython",
    "version": 3
   },
   "file_extension": ".py",
   "mimetype": "text/x-python",
   "name": "python",
   "nbconvert_exporter": "python",
   "pygments_lexer": "ipython3",
   "version": "3.8.3"
  }
 },
 "nbformat": 4,
 "nbformat_minor": 4
}
