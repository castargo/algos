{
 "cells": [
  {
   "cell_type": "markdown",
   "metadata": {},
   "source": [
    "# Сортировки\n",
    "\n",
    "[Основные виды сортировок и примеры их реализации](https://education.yandex.ru/journal/osnovnye-vidy-sortirovok-i-primery-ikh-realizatsii)\n",
    "\n",
    "<img src=\"pictures/sort_table.png\" width=500 height=500 />\n",
    "\n",
    "[mage source: bigocheatsheet.com](https://www.bigocheatsheet.com/)"
   ]
  },
  {
   "cell_type": "code",
   "execution_count": 1,
   "metadata": {},
   "outputs": [],
   "source": [
    "import numpy as np"
   ]
  },
  {
   "cell_type": "code",
   "execution_count": 2,
   "metadata": {},
   "outputs": [
    {
     "data": {
      "text/plain": [
       "array([9, 2, 5, 5, 4, 8, 2, 1, 0, 8, 7, 9, 5, 1, 2, 3, 5, 1, 3, 0])"
      ]
     },
     "execution_count": 2,
     "metadata": {},
     "output_type": "execute_result"
    }
   ],
   "source": [
    "small_array = np.random.randint(10, size=20)\n",
    "small_array"
   ]
  },
  {
   "cell_type": "code",
   "execution_count": 3,
   "metadata": {},
   "outputs": [],
   "source": [
    "huge_array = np.random.randint(1000, size=30000)"
   ]
  },
  {
   "cell_type": "markdown",
   "metadata": {},
   "source": [
    "### [Быстрая сортировка (quicksort)](https://ru.wikipedia.org/wiki/%D0%91%D1%8B%D1%81%D1%82%D1%80%D0%B0%D1%8F_%D1%81%D0%BE%D1%80%D1%82%D0%B8%D1%80%D0%BE%D0%B2%D0%BA%D0%B0)\n",
    "\n",
    "* Худшее время: $О(n^2)$\n",
    "* Лучшее время: $О(n log(n))$\n",
    "* Среднее время: $О(n log(n))$\n",
    "* Затраты памяти: $O(log(n))$\n",
    "\n",
    "Шаги алгоритма:\n",
    "1. Выбрать из массива элемент, называемый опорным. Это может быть любой из элементов массива. От выбора опорного элемента не зависит корректность алгоритма, но в отдельных случаях может сильно зависеть его эффективность.\n",
    "2. Сравнить все остальные элементы с опорным и переставить их в массиве так, чтобы разбить массив на три непрерывных отрезка, следующих друг за другом: «элементы меньшие опорного», «равные» и «большие».\n",
    "3. Для отрезков «меньших» и «больших» значений выполнить рекурсивно ту же последовательность операций, если длина отрезка больше единицы."
   ]
  },
  {
   "cell_type": "code",
   "execution_count": 4,
   "metadata": {},
   "outputs": [],
   "source": [
    "def quicksort(array):\n",
    "    if len(array) <= 1:\n",
    "        return array\n",
    "    else:\n",
    "        pivot = array[0]\n",
    "        left = [x for x in array[1:] if x < pivot]\n",
    "        right = [x for x in array[1:] if x >= pivot]\n",
    "        return quicksort(left) + [pivot] + quicksort(right)"
   ]
  },
  {
   "cell_type": "code",
   "execution_count": 5,
   "metadata": {},
   "outputs": [
    {
     "data": {
      "text/plain": [
       "[0, 0, 1, 1, 1, 2, 2, 2, 3, 3, 4, 5, 5, 5, 5, 7, 8, 8, 9, 9]"
      ]
     },
     "execution_count": 5,
     "metadata": {},
     "output_type": "execute_result"
    }
   ],
   "source": [
    "quicksort(small_array.copy())"
   ]
  },
  {
   "cell_type": "code",
   "execution_count": 6,
   "metadata": {},
   "outputs": [
    {
     "name": "stdout",
     "output_type": "stream",
     "text": [
      "done\n",
      "CPU times: user 207 ms, sys: 8.2 ms, total: 215 ms\n",
      "Wall time: 214 ms\n"
     ]
    }
   ],
   "source": [
    "%%time\n",
    "quicksort(huge_array.copy())\n",
    "print('done')"
   ]
  },
  {
   "cell_type": "markdown",
   "metadata": {},
   "source": [
    "### [Сортировка слиянием (mergesort)](https://ru.wikipedia.org/wiki/%D0%A1%D0%BE%D1%80%D1%82%D0%B8%D1%80%D0%BE%D0%B2%D0%BA%D0%B0_%D1%81%D0%BB%D0%B8%D1%8F%D0%BD%D0%B8%D0%B5%D0%BC)\n",
    "\n",
    "* Худшее время: $О(n log(n))$\n",
    "* Лучшее время: $О(n log(n))$\n",
    "* Среднее время: $О(n log(n))$\n",
    "* Затраты памяти: $O(n)$\n",
    "\n",
    "Шаги алгоритма:\n",
    "1. Сортируемый массив разбивается на две части примерно одинакового размера;\n",
    "2. Каждая из получившихся частей сортируется отдельно, например — тем же самым алгоритмом;\n",
    "3. Два упорядоченных массива половинного размера соединяются в один."
   ]
  },
  {
   "cell_type": "code",
   "execution_count": 7,
   "metadata": {},
   "outputs": [],
   "source": [
    "def merge_sort(arr):\n",
    "    if len(arr) <= 1:\n",
    "        return arr\n",
    "    mid = len(arr) // 2\n",
    "    left = merge_sort(arr[:mid])\n",
    "    right = merge_sort(arr[mid:])\n",
    "    return merge(left, right)\n",
    "\n",
    "def merge(left, right):\n",
    "    result = []\n",
    "    i = j = 0\n",
    "    while i < len(left) and j < len(right):\n",
    "        if left[i] < right[j]:\n",
    "            result.append(left[i])\n",
    "            i += 1\n",
    "        else:\n",
    "            result.append(right[j])\n",
    "            j += 1\n",
    "    result.extend(left[i:])\n",
    "    result.extend(right[j:])\n",
    "    return result"
   ]
  },
  {
   "cell_type": "code",
   "execution_count": 8,
   "metadata": {},
   "outputs": [
    {
     "data": {
      "text/plain": [
       "[0, 0, 1, 1, 1, 2, 2, 2, 3, 3, 4, 5, 5, 5, 5, 7, 8, 8, 9, 9]"
      ]
     },
     "execution_count": 8,
     "metadata": {},
     "output_type": "execute_result"
    }
   ],
   "source": [
    "merge_sort(small_array.copy())"
   ]
  },
  {
   "cell_type": "code",
   "execution_count": 9,
   "metadata": {},
   "outputs": [
    {
     "name": "stdout",
     "output_type": "stream",
     "text": [
      "done\n",
      "CPU times: user 316 ms, sys: 2.15 ms, total: 318 ms\n",
      "Wall time: 320 ms\n"
     ]
    }
   ],
   "source": [
    "%%time\n",
    "quicksort(huge_array.copy())\n",
    "print('done')"
   ]
  },
  {
   "cell_type": "markdown",
   "metadata": {},
   "source": [
    "### [Сортировка вставками (insertion sort)](https://ru.wikipedia.org/wiki/%D0%A1%D0%BE%D1%80%D1%82%D0%B8%D1%80%D0%BE%D0%B2%D0%BA%D0%B0_%D0%B2%D1%81%D1%82%D0%B0%D0%B2%D0%BA%D0%B0%D0%BC%D0%B8)\n",
    "\n",
    "* Худшее время: $O(n^2)$\n",
    "* Лучшее время: $O(n)$\n",
    "* Среднее время: $O(n^2)$\n",
    "* Затраты памяти: $O(1)$\n",
    "\n",
    "Шаги алгоритма:\n",
    "1. Массив из одного элемента считается отсортированным.\n",
    "2. Начиная со второго элемента идем по всем отсортированным элементам к началу списка и вставляем элемент так, чтобы левая часть списка была отсортирована.\n",
    "\n",
    "Алгоритм может быть ускорен, если для поиска места вставки элемента использовать бинарный поиск."
   ]
  },
  {
   "cell_type": "code",
   "execution_count": 10,
   "metadata": {},
   "outputs": [],
   "source": [
    "def insertion_sort(array):\n",
    "    n = len(array)\n",
    "    for i in range(1, n):\n",
    "        x = array[i]\n",
    "        j = i\n",
    "        while j > 0 and array[j - 1] > x:\n",
    "            array[j] = array[j - 1]\n",
    "            j -= 1\n",
    "        array[j] = x\n",
    "    return array"
   ]
  },
  {
   "cell_type": "code",
   "execution_count": 11,
   "metadata": {},
   "outputs": [
    {
     "data": {
      "text/plain": [
       "array([0, 0, 1, 1, 1, 2, 2, 2, 3, 3, 4, 5, 5, 5, 5, 7, 8, 8, 9, 9])"
      ]
     },
     "execution_count": 11,
     "metadata": {},
     "output_type": "execute_result"
    }
   ],
   "source": [
    "insertion_sort(small_array.copy())"
   ]
  },
  {
   "cell_type": "code",
   "execution_count": 12,
   "metadata": {},
   "outputs": [
    {
     "name": "stdout",
     "output_type": "stream",
     "text": [
      "done\n",
      "CPU times: user 2min 31s, sys: 31.5 ms, total: 2min 31s\n",
      "Wall time: 2min 32s\n"
     ]
    }
   ],
   "source": [
    "%%time\n",
    "insertion_sort(huge_array.copy())\n",
    "print('done')"
   ]
  },
  {
   "cell_type": "markdown",
   "metadata": {},
   "source": [
    "### [Сортировка Шелла (Shell sort)](https://ru.wikipedia.org/wiki/%D0%A1%D0%BE%D1%80%D1%82%D0%B8%D1%80%D0%BE%D0%B2%D0%BA%D0%B0_%D0%A8%D0%B5%D0%BB%D0%BB%D0%B0)\n",
    "\n",
    "* Худшее время: $O(n log(n)^2)$\n",
    "* Лучшее время: $O(n log(n))$\n",
    "* Среднее время: $O(n log(n)^2)$\n",
    "* Затраты памяти: $O(1)$\n",
    "\n",
    "Усовершенствованный алгоритм сортировки вставками, в котором сравниваются не только стоящие рядом элементы, но и на определённом расстоянии друг от друга (interval). Иными словами — это сортировка вставками с предварительными «грубыми» проходами."
   ]
  },
  {
   "cell_type": "code",
   "execution_count": 13,
   "metadata": {},
   "outputs": [],
   "source": [
    "def shell_sort(array):\n",
    "    n = len(array)\n",
    "    interval = n // 2\n",
    "    while interval > 0:\n",
    "        for i in range(interval, n):\n",
    "            temp = array[i]\n",
    "            j = i\n",
    "            while j >= interval and array[j - interval] > temp:\n",
    "                array[j] = array[j - interval]\n",
    "                j -= interval\n",
    "            array[j] = temp\n",
    "        interval //= 2\n",
    "    return array"
   ]
  },
  {
   "cell_type": "code",
   "execution_count": 14,
   "metadata": {},
   "outputs": [
    {
     "data": {
      "text/plain": [
       "array([0, 0, 1, 1, 1, 2, 2, 2, 3, 3, 4, 5, 5, 5, 5, 7, 8, 8, 9, 9])"
      ]
     },
     "execution_count": 14,
     "metadata": {},
     "output_type": "execute_result"
    }
   ],
   "source": [
    "shell_sort(small_array.copy())"
   ]
  },
  {
   "cell_type": "code",
   "execution_count": 15,
   "metadata": {},
   "outputs": [
    {
     "name": "stdout",
     "output_type": "stream",
     "text": [
      "done\n",
      "CPU times: user 428 ms, sys: 0 ns, total: 428 ms\n",
      "Wall time: 427 ms\n"
     ]
    }
   ],
   "source": [
    "%%time\n",
    "shell_sort(huge_array.copy())\n",
    "print('done')"
   ]
  },
  {
   "cell_type": "markdown",
   "metadata": {},
   "source": [
    "### [Timesort (сортировка вставками + сортировка слиянием)](https://ru.wikipedia.org/wiki/Timsort)\n",
    "\n",
    "* Худшее время: $O(n log(n))$\n",
    "* Лучшее время: $O(n)$\n",
    "* Среднее время: $O(n log(n))$\n",
    "* Затраты памяти: $O(n)$\n",
    "\n",
    "[Code source](https://www.geeksforgeeks.org/timsort/)\n",
    "\n",
    "Шаги алгоритма:\n",
    "1. По специальному алгоритму разделяем входной массив на подмассивы\n",
    "2. Сортируем каждый подмассив при помощи сортировки вставками\n",
    "3. Собираем отсортированные подмассивы в единый массив с помощью модифицированной сортировки слиянием"
   ]
  },
  {
   "cell_type": "code",
   "execution_count": 16,
   "metadata": {},
   "outputs": [],
   "source": [
    "def calc_min_run(n, min_merge=32): \n",
    "    \"\"\"\n",
    "    Returns the minimum length of a run from 23 - 64 so that \n",
    "    the len(array)/min_run is less than or equal to a power of 2.\n",
    "    1=>1, ..., 63=>63, 64=>32, 65=>33, ..., 127=>64, 128=>32, ... \n",
    "    \"\"\"\n",
    "    r = 0\n",
    "    while n >= min_merge: \n",
    "        r |= n & 1\n",
    "        n >>= 1\n",
    "    return n + r \n",
    "\n",
    "\n",
    "def insertion_sort_right_left(arr, left, right):\n",
    "    \"\"\" Insertion sort with left and right index \"\"\"\n",
    "    for i in range(left + 1, right + 1): \n",
    "        j = i \n",
    "        while j > left and arr[j] < arr[j - 1]: \n",
    "            arr[j], arr[j - 1] = arr[j - 1], arr[j]\n",
    "            j -= 1\n",
    "\n",
    "\n",
    "def merge(arr, l, m, r):\n",
    "    \"\"\" Merge left and right parts \"\"\"\n",
    "\n",
    "    len1 = m - l + 1\n",
    "    len2 = r - m\n",
    "    left, right = [], []\n",
    "\n",
    "    for i in range(0, len1):\n",
    "        left.append(arr[l + i])\n",
    "\n",
    "    for i in range(0, len2):\n",
    "        right.append(arr[m + 1 + i])\n",
    "\n",
    "    i, j, k = 0, 0, l\n",
    "\n",
    "    while i < len1 and j < len2:\n",
    "        if left[i] <= right[j]:\n",
    "            arr[k] = left[i]\n",
    "            i += 1\n",
    "        else:\n",
    "            arr[k] = right[j]\n",
    "            j += 1\n",
    "        k += 1\n",
    "\n",
    "    while i < len1:\n",
    "        arr[k] = left[i]\n",
    "        k += 1\n",
    "        i += 1\n",
    "\n",
    "    while j < len2:\n",
    "        arr[k] = right[j]\n",
    "        k += 1\n",
    "        j += 1\n",
    "\n",
    "\n",
    "def time_sort(arr):\n",
    "    n = len(arr)\n",
    "    min_run = calc_min_run(n)\n",
    "\n",
    "    for start in range(0, n, min_run):\n",
    "        end = min(start + min_run - 1, n - 1)\n",
    "        insertion_sort_right_left(arr, start, end)\n",
    "\n",
    "    size = min_run\n",
    "\n",
    "    while size < n:\n",
    "        for left in range(0, n, 2 * size):\n",
    "            mid = min(n - 1, left + size - 1)\n",
    "            right = min((left + 2 * size - 1), (n - 1))\n",
    "            if mid < right:\n",
    "                merge(arr, left, mid, right)\n",
    "\n",
    "        size = 2 * size\n",
    "    \n",
    "    return arr"
   ]
  },
  {
   "cell_type": "code",
   "execution_count": 17,
   "metadata": {},
   "outputs": [
    {
     "data": {
      "text/plain": [
       "array([0, 0, 1, 1, 1, 2, 2, 2, 3, 3, 4, 5, 5, 5, 5, 7, 8, 8, 9, 9])"
      ]
     },
     "execution_count": 17,
     "metadata": {},
     "output_type": "execute_result"
    }
   ],
   "source": [
    "time_sort(small_array.copy())"
   ]
  },
  {
   "cell_type": "code",
   "execution_count": 18,
   "metadata": {},
   "outputs": [
    {
     "name": "stdout",
     "output_type": "stream",
     "text": [
      "done\n",
      "CPU times: user 446 ms, sys: 9 µs, total: 446 ms\n",
      "Wall time: 447 ms\n"
     ]
    }
   ],
   "source": [
    "%%time\n",
    "time_sort(huge_array.copy())\n",
    "print('done')"
   ]
  },
  {
   "cell_type": "markdown",
   "metadata": {},
   "source": [
    "### [Пирамидальная сортировка или сортировка кучей (heapsort)](https://ru.wikipedia.org/wiki/%D0%9F%D0%B8%D1%80%D0%B0%D0%BC%D0%B8%D0%B4%D0%B0%D0%BB%D1%8C%D0%BD%D0%B0%D1%8F_%D1%81%D0%BE%D1%80%D1%82%D0%B8%D1%80%D0%BE%D0%B2%D0%BA%D0%B0)\n",
    "\n",
    "* Худшее время: $O(n log(n))$\n",
    "* Лучшее время: $O(n log(n))$\n",
    "* Среднее время: $O(n log(n))$\n",
    "* Затраты памяти: $O(1)$\n",
    "\n",
    "Пирамидой (кучей) называется двоичное дерево, у которого минимальный элемент находится в корне. \n",
    "\n",
    "Шаги алгоритма:\n",
    "1. Превращаем массив в кучу при помощи метода heapify ($O(n)$)\n",
    "2. Меняем местами первый элемент массива (самый большой элемент в куче) с последним элементом кучи. \n",
    "3. Уменьшаем рассматриваемый диапазон кучи на единицу, перемещаем новый первый элемент в правильное место в куче.\n",
    "4. Повторяем шаги 2-3\n",
    "\n",
    "> Может быть рассмотрена как усовершенствованная сортировка пузырьком"
   ]
  },
  {
   "cell_type": "code",
   "execution_count": 19,
   "metadata": {},
   "outputs": [],
   "source": [
    "def heapify(array, n, i):\n",
    "    largest = i\n",
    "    l = 2 * i + 1\n",
    "    r = 2 * i + 2\n",
    "\n",
    "    if l < n and array[i] < array[l]:\n",
    "        largest = l\n",
    "\n",
    "    if r < n and array[largest] < array[r]:\n",
    "        largest = r\n",
    "\n",
    "    if largest != i:\n",
    "        (array[i], array[largest]) = (array[largest], array[i])\n",
    "        heapify(array, n, largest)\n",
    "\n",
    "\n",
    "def heapsort(array):\n",
    "    n = len(array)\n",
    "\n",
    "    for i in range(n // 2, -1, -1):\n",
    "        heapify(array, n, i)\n",
    " \n",
    "    for i in range(n - 1, 0, -1):\n",
    "        (array[i], array[0]) = (array[0], array[i])\n",
    "        heapify(array, i, 0)\n",
    "    \n",
    "    return array"
   ]
  },
  {
   "cell_type": "code",
   "execution_count": 20,
   "metadata": {},
   "outputs": [
    {
     "data": {
      "text/plain": [
       "array([0, 0, 1, 1, 1, 2, 2, 2, 3, 3, 4, 5, 5, 5, 5, 7, 8, 8, 9, 9])"
      ]
     },
     "execution_count": 20,
     "metadata": {},
     "output_type": "execute_result"
    }
   ],
   "source": [
    "heapsort(small_array.copy())"
   ]
  },
  {
   "cell_type": "code",
   "execution_count": 21,
   "metadata": {},
   "outputs": [
    {
     "name": "stdout",
     "output_type": "stream",
     "text": [
      "done\n",
      "CPU times: user 756 ms, sys: 12 ms, total: 768 ms\n",
      "Wall time: 767 ms\n"
     ]
    }
   ],
   "source": [
    "%%time\n",
    "heapsort(huge_array.copy())\n",
    "print('done')"
   ]
  },
  {
   "cell_type": "markdown",
   "metadata": {},
   "source": [
    "### [Сортировка с помощью двоичного дерева (tree sort)](https://ru.wikipedia.org/wiki/%D0%A1%D0%BE%D1%80%D1%82%D0%B8%D1%80%D0%BE%D0%B2%D0%BA%D0%B0_%D1%81_%D0%BF%D0%BE%D0%BC%D0%BE%D1%89%D1%8C%D1%8E_%D0%B4%D0%B2%D0%BE%D0%B8%D1%87%D0%BD%D0%BE%D0%B3%D0%BE_%D0%B4%D0%B5%D1%80%D0%B5%D0%B2%D0%B0)\n",
    "\n",
    "* Худшее время: $O(n^2)$\n",
    "* Лучшее время: $O(n log(n))$\n",
    "* Среднее время: $O(n log(n))$\n",
    "* Затраты памяти: $O(n)$\n",
    "\n",
    "Шаги алгоритма:\n",
    "1. Построение двоичного дерева.\n",
    "2. Сборка результирующего массива путём обхода узлов в необходимом порядке следования ключей."
   ]
  },
  {
   "cell_type": "code",
   "execution_count": 22,
   "metadata": {},
   "outputs": [],
   "source": [
    "class Node():\n",
    "    def __init__(self, value):\n",
    "        self.value = value\n",
    "        self.left = None\n",
    "        self.right = None\n",
    "        self.count = 1\n",
    "    \n",
    "    def insert(self, value):\n",
    "        if self.value:\n",
    "            if value < self.value:\n",
    "                if self.left is None:\n",
    "                    self.left = Node(value)\n",
    "                else:\n",
    "                    self.left.insert(value)\n",
    "            elif value > self.value:\n",
    "                if self.right is None:\n",
    "                    self.right = Node(value)\n",
    "                else:\n",
    "                    self.right.insert(value)\n",
    "            else:\n",
    "                self.count += 1\n",
    "        else:\n",
    "            self.value = value\n",
    "\n",
    "\n",
    "def inorder(root, res): \n",
    "    if root:\n",
    "        inorder(root.left, res)\n",
    "        res += [root.value] * root.count\n",
    "        inorder(root.right, res)\n",
    "\n",
    "\n",
    "def tree_sort(array):\n",
    "    root = Node(array[0])\n",
    "\n",
    "    for i in range(1, len(array)):\n",
    "        root.insert(array[i])\n",
    "\n",
    "    array_sorted = []\n",
    "    inorder(root, array_sorted)\n",
    "    return array_sorted"
   ]
  },
  {
   "cell_type": "code",
   "execution_count": 23,
   "metadata": {},
   "outputs": [
    {
     "data": {
      "text/plain": [
       "[0, 1, 1, 1, 2, 2, 2, 3, 3, 4, 5, 5, 5, 5, 7, 8, 8, 9, 9]"
      ]
     },
     "execution_count": 23,
     "metadata": {},
     "output_type": "execute_result"
    }
   ],
   "source": [
    "tree_sort(small_array.copy())"
   ]
  },
  {
   "cell_type": "code",
   "execution_count": 24,
   "metadata": {},
   "outputs": [
    {
     "name": "stdout",
     "output_type": "stream",
     "text": [
      "done\n",
      "CPU times: user 203 ms, sys: 3.99 ms, total: 207 ms\n",
      "Wall time: 207 ms\n"
     ]
    }
   ],
   "source": [
    "%%time\n",
    "tree_sort(huge_array.copy())\n",
    "print('done')"
   ]
  },
  {
   "cell_type": "markdown",
   "metadata": {},
   "source": [
    "### [Блочная сортировка (bucket sort)](https://ru.wikipedia.org/wiki/%D0%91%D0%BB%D0%BE%D1%87%D0%BD%D0%B0%D1%8F_%D1%81%D0%BE%D1%80%D1%82%D0%B8%D1%80%D0%BE%D0%B2%D0%BA%D0%B0)\n",
    "\n",
    "* Худшее время: $O(n^2)$\n",
    "* Лучшее время: $O(n + k)$\n",
    "* Среднее время: $O(n + k)$\n",
    "* Затраты памяти: $O(n)$\n",
    "\n",
    "Шаги алгоритма:\n",
    "1. Инициализируем пустой массив (bucket) с некоторым количествоя ячеек\n",
    "2. Распределяем элементы входного массива так, чтобы каждый элемент был помещен в свой бакет (соседи приблизительно одного порядка)\n",
    "3. Каждый бакет сортируется внутри себя\n",
    "4. Отсортированные бакеты склеиваются в отсортированный массив"
   ]
  },
  {
   "cell_type": "code",
   "execution_count": 25,
   "metadata": {},
   "outputs": [],
   "source": [
    "def bucket_sort(array):\n",
    "    bucket = []\n",
    "\n",
    "    for i in range(len(array)):\n",
    "        bucket.append([])\n",
    "\n",
    "    for j in array:\n",
    "        index_b = int(j)\n",
    "        bucket[index_b].append(j)\n",
    "\n",
    "    for i in range(len(array)):\n",
    "        bucket[i] = sorted(bucket[i])\n",
    "\n",
    "    k = 0\n",
    "    for i in range(len(array)):\n",
    "        for j in range(len(bucket[i])):\n",
    "            array[k] = bucket[i][j]\n",
    "            k += 1\n",
    "\n",
    "    return array"
   ]
  },
  {
   "cell_type": "code",
   "execution_count": 26,
   "metadata": {},
   "outputs": [
    {
     "data": {
      "text/plain": [
       "array([0, 0, 1, 1, 1, 2, 2, 2, 3, 3, 4, 5, 5, 5, 5, 7, 8, 8, 9, 9])"
      ]
     },
     "execution_count": 26,
     "metadata": {},
     "output_type": "execute_result"
    }
   ],
   "source": [
    "bucket_sort(small_array.copy())"
   ]
  },
  {
   "cell_type": "code",
   "execution_count": 27,
   "metadata": {},
   "outputs": [
    {
     "name": "stdout",
     "output_type": "stream",
     "text": [
      "done\n",
      "CPU times: user 49.2 ms, sys: 6 µs, total: 49.2 ms\n",
      "Wall time: 48 ms\n"
     ]
    }
   ],
   "source": [
    "%%time\n",
    "bucket_sort(huge_array.copy())\n",
    "print('done')"
   ]
  },
  {
   "cell_type": "markdown",
   "metadata": {},
   "source": [
    "### [Поразрядная сортировка (radix sort)](https://ru.wikipedia.org/wiki/%D0%9F%D0%BE%D1%80%D0%B0%D0%B7%D1%80%D1%8F%D0%B4%D0%BD%D0%B0%D1%8F_%D1%81%D0%BE%D1%80%D1%82%D0%B8%D1%80%D0%BE%D0%B2%D0%BA%D0%B0)\n",
    "\n",
    "* Худшее время: $O(nk)$\n",
    "* Лучшее время: $O(nk)$\n",
    "* Среднее время: $O(nk)$\n",
    "* Затраты памяти: $O(n + k)$\n",
    "\n",
    "[Code source: Radix Sort — самая быстрая сортировка для чисел и строк](https://thecode.media/radix/)\n",
    "\n",
    "Шаги алгоритма:\n",
    "1. Вычисляем размер массива и разрядность самого большого числа\n",
    "2. Создаем пустой массив с 10 пустыми ячейками (по количеству разрядов текущей системы счисления)\n",
    "3. В цикле по разрядам от 0 до значения максимального разряда: складываем в соответсвующую ячейку созданного на шаге 2 массива число по значению текущего разряда, обновляем отсортированный список."
   ]
  },
  {
   "cell_type": "code",
   "execution_count": 28,
   "metadata": {},
   "outputs": [],
   "source": [
    "def radix_sort(array, base=10):\n",
    "    max_digits = max([len(str(x)) for x in array])\n",
    "    bins = [[] for _ in range(base)]\n",
    "\n",
    "    for i in range(0, max_digits):\n",
    "        for x in array:\n",
    "            digit = (x // base ** i) % base\n",
    "            bins[digit].append(x)\n",
    "\n",
    "        array = [x for queue in bins for x in queue]\n",
    "        bins = [[] for _ in range(base)]\n",
    "\n",
    "    return array"
   ]
  },
  {
   "cell_type": "code",
   "execution_count": 29,
   "metadata": {},
   "outputs": [
    {
     "data": {
      "text/plain": [
       "[0, 0, 1, 1, 1, 2, 2, 2, 3, 3, 4, 5, 5, 5, 5, 7, 8, 8, 9, 9]"
      ]
     },
     "execution_count": 29,
     "metadata": {},
     "output_type": "execute_result"
    }
   ],
   "source": [
    "radix_sort(small_array.copy())"
   ]
  },
  {
   "cell_type": "code",
   "execution_count": 30,
   "metadata": {},
   "outputs": [
    {
     "name": "stdout",
     "output_type": "stream",
     "text": [
      "done\n",
      "CPU times: user 90.8 ms, sys: 0 ns, total: 90.8 ms\n",
      "Wall time: 89.5 ms\n"
     ]
    }
   ],
   "source": [
    "%%time\n",
    "radix_sort(huge_array.copy())\n",
    "print('done')"
   ]
  },
  {
   "cell_type": "markdown",
   "metadata": {},
   "source": [
    "### [Сортировка выбором (selection sort)](https://ru.wikipedia.org/wiki/%D0%A1%D0%BE%D1%80%D1%82%D0%B8%D1%80%D0%BE%D0%B2%D0%BA%D0%B0_%D0%B2%D1%8B%D0%B1%D0%BE%D1%80%D0%BE%D0%BC#:~:text=%D0%A1%D0%BE%D1%80%D1%82%D0%B8%D1%80%D0%BE%D0%B2%D0%BA%D0%B0%20%D0%B2%D1%8B%D0%B1%D0%BE%D1%80%D0%BE%D0%BC%20(Selection%20sort)%20%E2%80%94,%D1%81%D1%80%D0%B0%D0%B2%D0%BD%D0%B5%D0%BD%D0%B8%D1%8F%20%D0%B4%D0%B5%D0%BB%D0%B0%D1%8E%D1%82%D1%81%D1%8F%20%D0%B7%D0%B0%20%D0%BF%D0%BE%D1%81%D1%82%D0%BE%D1%8F%D0%BD%D0%BD%D0%BE%D0%B5%20%D0%B2%D1%80%D0%B5%D0%BC%D1%8F.)\n",
    "\n",
    "* Худшее время: $О(n^2)$\n",
    "* Лучшее время: $О(n^2)$\n",
    "* Среднее время: $О(n^2)$\n",
    "* Затраты памяти: $O(1)$ - без дополнительного выделения памяти\n",
    "\n",
    "Шаги алгоритма:\n",
    "1. Идем по массиву и находим номер минимального значения в текущем списке.\n",
    "2. Меняем номера первого значения в списке и минимального значения в списке.\n",
    "3. Сортируем хвост списка, исключив из рассмотрения уже отсортированные элементы (квадратичная сложность)."
   ]
  },
  {
   "cell_type": "code",
   "execution_count": 31,
   "metadata": {},
   "outputs": [],
   "source": [
    "def selection_sort(array):\n",
    "    for i in range(len(array) - 1):\n",
    "        min_ind = i\n",
    "        for j in range(i + 1, len(array)):\n",
    "            if array[j] < array[min_ind]:\n",
    "                min_ind = j\n",
    "        array[i], array[min_ind] = array[min_ind], array[i]\n",
    "    return array"
   ]
  },
  {
   "cell_type": "code",
   "execution_count": 32,
   "metadata": {},
   "outputs": [
    {
     "data": {
      "text/plain": [
       "array([0, 0, 1, 1, 1, 2, 2, 2, 3, 3, 4, 5, 5, 5, 5, 7, 8, 8, 9, 9])"
      ]
     },
     "execution_count": 32,
     "metadata": {},
     "output_type": "execute_result"
    }
   ],
   "source": [
    "selection_sort(small_array.copy())"
   ]
  },
  {
   "cell_type": "code",
   "execution_count": 33,
   "metadata": {},
   "outputs": [
    {
     "name": "stdout",
     "output_type": "stream",
     "text": [
      "done\n",
      "CPU times: user 2min 41s, sys: 56.2 ms, total: 2min 41s\n",
      "Wall time: 2min 41s\n"
     ]
    }
   ],
   "source": [
    "%%time\n",
    "selection_sort(huge_array.copy())\n",
    "print('done')"
   ]
  },
  {
   "cell_type": "markdown",
   "metadata": {},
   "source": [
    "### [Сортировка подсчетом (counting sort)](https://ru.wikipedia.org/wiki/%D0%A1%D0%BE%D1%80%D1%82%D0%B8%D1%80%D0%BE%D0%B2%D0%BA%D0%B0_%D0%BF%D0%BE%D0%B4%D1%81%D1%87%D1%91%D1%82%D0%BE%D0%BC)\n",
    "\n",
    "* Худшее время: $О(n+m)$\n",
    "* Лучшее время: $О(n+m)$\n",
    "* Среднее время: $О(n+m)$\n",
    "* Затраты памяти: $O(m)$\n",
    "\n",
    "Шаги алгоритма:\n",
    "1. Проходимся по массиву A и находим значение максимума массива.\n",
    "2. Выделяем вспомогательный массив C размера len(max(array)), заполняем его нулями.\n",
    "3. Идем по неотсортированному массиву, обновляя на один по индексу значения во вспомогательном массиве.\n",
    "4. Восстанавливаем отсортированный массив из вспомогательного массива."
   ]
  },
  {
   "cell_type": "code",
   "execution_count": 34,
   "metadata": {},
   "outputs": [],
   "source": [
    "def counting_sort(array):\n",
    "    # O(m)\n",
    "    elem_count = max(array) + 1\n",
    "    count_array = [0] * elem_count\n",
    "\n",
    "    # O(n)\n",
    "    for a in array:\n",
    "        count_array[a] += 1\n",
    "\n",
    "    # O(n)\n",
    "    elem_ind = 0\n",
    "    for a in range(elem_count):\n",
    "        for cnt in range(count_array[a]):\n",
    "            array[elem_ind] = a\n",
    "            elem_ind += 1\n",
    "    \n",
    "    return array"
   ]
  },
  {
   "cell_type": "code",
   "execution_count": 35,
   "metadata": {},
   "outputs": [
    {
     "data": {
      "text/plain": [
       "array([0, 0, 1, 1, 1, 2, 2, 2, 3, 3, 4, 5, 5, 5, 5, 7, 8, 8, 9, 9])"
      ]
     },
     "execution_count": 35,
     "metadata": {},
     "output_type": "execute_result"
    }
   ],
   "source": [
    "counting_sort(small_array.copy())"
   ]
  },
  {
   "cell_type": "code",
   "execution_count": 36,
   "metadata": {},
   "outputs": [
    {
     "name": "stdout",
     "output_type": "stream",
     "text": [
      "done\n",
      "CPU times: user 24 ms, sys: 0 ns, total: 24 ms\n",
      "Wall time: 23.1 ms\n"
     ]
    }
   ],
   "source": [
    "%%time\n",
    "counting_sort(huge_array.copy())\n",
    "print('done')"
   ]
  },
  {
   "cell_type": "markdown",
   "metadata": {},
   "source": [
    "### [Сортировка пузырьком (bubble sort)](https://ru.wikipedia.org/wiki/%D0%A1%D0%BE%D1%80%D1%82%D0%B8%D1%80%D0%BE%D0%B2%D0%BA%D0%B0_%D0%BF%D1%83%D0%B7%D1%8B%D1%80%D1%8C%D0%BA%D0%BE%D0%BC)\n",
    "\n",
    "* Худшее время: $О(n)$\n",
    "* Лучшее время: $О(n^2)$\n",
    "* Среднее время: $О(n^2)$\n",
    "* Затраты памяти: $O(1)$\n",
    "\n",
    "Шаги алгоритма (сортировка простыми обменами):\n",
    "1. Выполняется некоторое количество проходов по массиву — начиная от начала массива, перебираются пары соседних элементов массива. Если 1-й элемент пары больше 2-го, элементы переставляются (выполняется обмен).\n",
    "2. Пары элементов массива перебираются (проходы по массиву повторяются) либо (n-1) раз, либо до тех пор, пока на очередном проходе не обнаружится, что более не требуется выполнять перестановки (обмены) (массив отсортирован).\n",
    "3. При каждом проходе алгоритма по внутреннему циклу очередной наибольший элемент массива ставится на своё место в конце массива рядом с предыдущим «наибольшим элементом», а наименьший элемент перемещается на одну позицию к началу массива (как бы «всплывает» до нужной позиции, как пузырёк в воде — откуда и название алгоритма)."
   ]
  },
  {
   "cell_type": "code",
   "execution_count": 37,
   "metadata": {},
   "outputs": [],
   "source": [
    "def bubble_sort(array):\n",
    "    for i in range(len(array)):\n",
    "        for j in range(0, len(array) - i - 1):\n",
    "            if array[j] > array[j + 1]:\n",
    "                temp = array[j]\n",
    "                array[j] = array[j+1]\n",
    "                array[j+1] = temp\n",
    "    return array"
   ]
  },
  {
   "cell_type": "code",
   "execution_count": 38,
   "metadata": {},
   "outputs": [
    {
     "data": {
      "text/plain": [
       "array([0, 0, 1, 1, 1, 2, 2, 2, 3, 3, 4, 5, 5, 5, 5, 7, 8, 8, 9, 9])"
      ]
     },
     "execution_count": 38,
     "metadata": {},
     "output_type": "execute_result"
    }
   ],
   "source": [
    "bubble_sort(small_array.copy())"
   ]
  },
  {
   "cell_type": "code",
   "execution_count": 39,
   "metadata": {},
   "outputs": [
    {
     "name": "stdout",
     "output_type": "stream",
     "text": [
      "done\n",
      "CPU times: user 5min 2s, sys: 80 ms, total: 5min 2s\n",
      "Wall time: 5min 3s\n"
     ]
    }
   ],
   "source": [
    "%%time\n",
    "bubble_sort(huge_array.copy())\n",
    "print('done')"
   ]
  }
 ],
 "metadata": {
  "kernelspec": {
   "display_name": "Python 3",
   "language": "python",
   "name": "python3"
  },
  "language_info": {
   "codemirror_mode": {
    "name": "ipython",
    "version": 3
   },
   "file_extension": ".py",
   "mimetype": "text/x-python",
   "name": "python",
   "nbconvert_exporter": "python",
   "pygments_lexer": "ipython3",
   "version": "3.8.3"
  }
 },
 "nbformat": 4,
 "nbformat_minor": 4
}
