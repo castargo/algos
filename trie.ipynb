{
 "cells": [
  {
   "cell_type": "markdown",
   "metadata": {},
   "source": [
    "# Префиксное дерево (trie, prefix tree, луч, нагруженное дерево, бор)\n",
    "\n",
    "* [Префиксное дерево](https://ru.wikipedia.org/wiki/%D0%9F%D1%80%D0%B5%D1%84%D0%B8%D0%BA%D1%81%D0%BD%D0%BE%D0%B5_%D0%B4%D0%B5%D1%80%D0%B5%D0%B2%D0%BE)\n",
    "* [Tries (Prefix Trees)](https://www.baeldung.com/cs/tries-prefix-trees)\n",
    "* [Префиксное дерево (trie)](https://habr.com/ru/companies/otus/articles/674378/)\n",
    "* [Префиксные деревья](https://ru.hexlet.io/courses/algorithms-trees/lessons/prefix/theory_unit)"
   ]
  },
  {
   "cell_type": "markdown",
   "metadata": {},
   "source": [
    "## Общая информация\n",
    "\n",
    "Префиксное дерево — структура данных, позволяющая хранить ассоциативный массив, ключами которого чаще всего являются строки. Представляет собой дерево поиска, каждое ребро которого помечено каким-то символом так, что для любого узла все рёбра, соединяющие этот узел с его потомками, помечены разными символами. \n",
    "\n",
    "Префиксные деревья могут использоваться, например, для реализации множеств и ассоциативных массивов, но наиболее полезны они при обходе и поиске ключей, начинающихся с определенного префикса (например, при автодополнениях).\n",
    "\n",
    "<img src=\"pictures/trie_example.png\" width=350 height=350 />\n",
    "\n",
    "Ключ в префиксном дереве, идентифицирующий конкретный узел дерева, не явно хранится в данном узле, а задаётся положением данного узла в дереве. Получить ключ можно выписыванием подряд символов, помечающих рёбра на пути от корня до узла. Ключ корня дерева — пустая строка. \n",
    "\n",
    "Некоторые узлы префиксного дерева выделены (на рисунке они подписаны цифрами). В таких узлах хранятся действительные ключи; они помечены булевым флагом. Считается, что префиксное дерево содержит данную строку-ключ тогда и только тогда, когда эту строку можно прочитать на пути из корня до некоторого (единственного для этой строки) выделенного узла. Иногда также удобно считать все узлы дерева выделенными. Часто в выделенных узлах хранят дополнительную информацию, связанную с ключом, и обычно выделенными являются только листья и, возможно, некоторые внутренние узлы."
   ]
  },
  {
   "cell_type": "code",
   "execution_count": 1,
   "metadata": {},
   "outputs": [],
   "source": [
    "class TrieNode:\n",
    "    def __init__(self, value=''):\n",
    "        self.value = value\n",
    "        self.children = {}\n",
    "        self.is_end_of_word = False\n",
    "\n",
    "class Trie:\n",
    "    def __init__(self):\n",
    "        self.root = TrieNode('')\n",
    "\n",
    "    def insert(self, word):\n",
    "        node = self.root\n",
    "        for char in word:\n",
    "            if char not in node.children:\n",
    "                node.children[char] = TrieNode(char)\n",
    "            node = node.children[char]\n",
    "        node.is_end_of_word = True\n",
    "\n",
    "    def search_with_key(self, key_word):\n",
    "        node = self.root\n",
    "        for char in key_word:\n",
    "            if char in node.children:\n",
    "                node = node.children[char]\n",
    "            else:\n",
    "                return False\n",
    "        return node.is_end_of_word\n",
    "\n",
    "    def search_with_prefix(self, prefix):\n",
    "        node = self.root\n",
    "        for char in prefix:\n",
    "            if char in node.children:\n",
    "                node = node.children[char]\n",
    "            else:\n",
    "                return False\n",
    "        return True\n",
    "\n",
    "    def delete(self, word):\n",
    "        def _delete(node, word, index):\n",
    "            if index == len(word):\n",
    "                if node.is_end_of_word:\n",
    "                    node.is_end_of_word = False\n",
    "                    if not node.children:\n",
    "                        return True\n",
    "                    return False\n",
    "                return False\n",
    "\n",
    "            char = word[index]\n",
    "            if char not in node.children:\n",
    "                return False\n",
    "\n",
    "            child_node = node.children[char]\n",
    "            delete_child = _delete(child_node, word, index + 1)\n",
    "\n",
    "            if delete_child:\n",
    "                del node.children[char]\n",
    "                if not node.children and not node.is_end_of_word:\n",
    "                    return True\n",
    "            return False\n",
    "\n",
    "        _delete(self.root, word, 0)"
   ]
  },
  {
   "cell_type": "code",
   "execution_count": 2,
   "metadata": {},
   "outputs": [],
   "source": [
    "trie = Trie()\n",
    "words = [\"apple\", \"banana\", \"apricot\", \"apartment\", \"ape\", \"bee\"]\n",
    "for word in words:\n",
    "    trie.insert(word)"
   ]
  },
  {
   "cell_type": "code",
   "execution_count": 3,
   "metadata": {},
   "outputs": [
    {
     "name": "stdout",
     "output_type": "stream",
     "text": [
      "True\n",
      "False\n"
     ]
    }
   ],
   "source": [
    "print(trie.search_with_key(\"apple\"))\n",
    "print(trie.search_with_key(\"pear\"))"
   ]
  },
  {
   "cell_type": "code",
   "execution_count": 4,
   "metadata": {},
   "outputs": [],
   "source": [
    "trie.delete(\"apricot\")"
   ]
  },
  {
   "cell_type": "code",
   "execution_count": 5,
   "metadata": {},
   "outputs": [
    {
     "name": "stdout",
     "output_type": "stream",
     "text": [
      "True\n",
      "True\n"
     ]
    }
   ],
   "source": [
    "print(trie.search_with_prefix(\"ap\"))\n",
    "print(trie.search_with_prefix(\"ban\"))"
   ]
  },
  {
   "cell_type": "markdown",
   "metadata": {},
   "source": [
    "## Сжатые префиксные деревья\n",
    "\n",
    "В сжатых префиксных деревьях в вершине хранится не символ, а последовательность символов - префикс. Такая структура храненя информации существенно уменьшает количество переходов между вершинами и подходит для информации, которая не очень часто изменяется.\n",
    "\n",
    "Поддерживает те же операции, однако в них дополнительно должно быть реализовано сравнение подстрок."
   ]
  }
 ],
 "metadata": {
  "kernelspec": {
   "display_name": "Python 3",
   "language": "python",
   "name": "python3"
  },
  "language_info": {
   "codemirror_mode": {
    "name": "ipython",
    "version": 3
   },
   "file_extension": ".py",
   "mimetype": "text/x-python",
   "name": "python",
   "nbconvert_exporter": "python",
   "pygments_lexer": "ipython3",
   "version": "3.8.3"
  }
 },
 "nbformat": 4,
 "nbformat_minor": 4
}
